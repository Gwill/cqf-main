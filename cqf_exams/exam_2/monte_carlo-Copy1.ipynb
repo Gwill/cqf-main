{
 "cells": [
  {
   "cell_type": "code",
   "execution_count": 14,
   "metadata": {},
   "outputs": [],
   "source": [
    "import math\n",
    "import numpy as np\n",
    "import matplotlib.pyplot as plt\n",
    "from scipy.stats import norm\n",
    "from collections import namedtuple\n",
    "\n",
    "%matplotlib inline\n",
    "\n",
    "RANDOM_SEED = 100\n",
    "\n",
    "# Present Valuing (Discount Factor)\n",
    "# x = r, y = T-t\n",
    "DF = lambda x, y: math.exp(-x * y)\n",
    "\n",
    "# Initial setup\n",
    "S0 = 100      # Stock value at t=0\n",
    "E = 100       # Strike Price\n",
    "r = 0.05      # annulized risk-free interest rate\n",
    "vol = 0.2     # annulized volatility of the underlying\n",
    "T = 1         # 1 year to expiry\n",
    "\n",
    "BinaryOption = namedtuple(\"BinaryOption\", [\"name\", \"c_v\", \"p_v\"])"
   ]
  },
  {
   "cell_type": "markdown",
   "metadata": {},
   "source": [
    "## Theoretical Black Scholes Binary Call & Put Option Value"
   ]
  },
  {
   "cell_type": "code",
   "execution_count": 15,
   "metadata": {},
   "outputs": [
    {
     "name": "stdout",
     "output_type": "stream",
     "text": [
      "0.35000000000000003 0.15000000000000002\n",
      "==================================================================================================== \n",
      "\n",
      "Asset or Nothing Values\n",
      "------------------------- \n",
      "\n",
      "Binary Call Option Value:  V(S, T):  10.45\n",
      "Binary Put  Option Value:  V(S, T):   5.57\n",
      "==================================================================================================== \n",
      "\n"
     ]
    }
   ],
   "source": [
    "def bse_theoretical(S0, E, T, r, vol):\n",
    "    \n",
    "    # Theoretical Value\n",
    "    d1 = (np.log(S0/E) + (r + 0.5*vol*vol)*T) / (vol* math.sqrt(T))\n",
    "\n",
    "    d2 = d1 - vol*math.sqrt(T)\n",
    "    \n",
    "    print(d1, d2)\n",
    "    \n",
    "    # Using Asset or Nothing\n",
    "    c_an = S0*norm.cdf(d1) - E*np.exp(-r*T)*norm.cdf(d2)\n",
    "    \n",
    "    p_an = -S0*norm.cdf(-d1) + E * DF(r, T) * norm.cdf(-d2)\n",
    "\n",
    "\n",
    "    print(\"=\"*100, \"\\n\")\n",
    "    literal = \"Asset or Nothing Values\"\n",
    "    print(literal)\n",
    "    print(\"-\"*(len(literal) + 2), \"\\n\")\n",
    "    print(\"Binary Call Option Value:  V(S, T):{:7.2f}\".format(c_an))\n",
    "    print(\"Binary Put  Option Value:  V(S, T):{:7.2f}\".format(p_an))\n",
    "    print(\"=\"*100, \"\\n\")\n",
    "    \n",
    "    return BinaryOption(\"bse_theoretical\", c_an, p_an)\n",
    "\n",
    "option_bse = bse_theoretical(S0, E, T, r, vol)"
   ]
  },
  {
   "cell_type": "markdown",
   "metadata": {},
   "source": [
    "## One Giant Leap Binary Call Value"
   ]
  },
  {
   "cell_type": "code",
   "execution_count": 16,
   "metadata": {},
   "outputs": [
    {
     "name": "stdout",
     "output_type": "stream",
     "text": [
      "==================================================================================================== \n",
      "\n",
      "Expected Value: 105.18016\n",
      "\n",
      "Asset or Nothing Values\n",
      "------------------------- \n",
      "\n",
      "Binary Call Option Value:  V(S, T):  10.55  | (10.45)\n",
      "Binary Put  Option Value:  V(S, T):   5.62  | ( 5.57)\n",
      "==================================================================================================== \n",
      "\n"
     ]
    }
   ],
   "source": [
    "np.random.seed(RANDOM_SEED)\n",
    "\n",
    "def bse_giant_leap(npaths=1E6, plot=True, output=True):\n",
    "    global T, S0, E, r, vol, DF, option_bse\n",
    "    \n",
    "    N = int(npaths)\n",
    "    \n",
    "    # Generate some random numbers\n",
    "    rn = np.random.standard_normal(size=N)\n",
    "\n",
    "    \n",
    "    s_t = S0*np.exp((r - 0.5*vol**2)*T + vol*rn*math.sqrt(T))\n",
    "    \n",
    "    if plot:\n",
    "        fig, ax = plt.subplots(nrows=1, ncols=1, figsize=(18, 6), dpi=70)\n",
    "\n",
    "        s_t_norm = (s_t - np.mean(s_t)) / np.std(s_t)\n",
    "\n",
    "        # Note for self: Pass density=true to normalize it such that integral over distribution = 1\n",
    "        ax.hist(s_t_norm, bins=1000, density=True)\n",
    "\n",
    "        ax.set_xlabel(\"Normalzed Stock price at time T\")\n",
    "        ax.set_ylabel(\"Frequency\");\n",
    "        ax.set_xlim([-4, 4])\n",
    "\n",
    "    # Value of Binary Option\n",
    "    # value = S0 * DF(r, T) * np.heaviside(s_t - strike, 0).mean()\n",
    "    call_value = DF(r, T) * np.maximum(s_t - E, 0).mean()\n",
    "    put_value = DF(r, T) * np.maximum(E - s_t, 0).mean()\n",
    "    \n",
    "    if output:\n",
    "        print(\"=\"*100, \"\\n\")\n",
    "        print(\"Expected Value: {:7.5f}\\n\".format(np.mean(s_t))) # TODO: delete later\n",
    "        literal = \"Asset or Nothing Values\"\n",
    "        print(literal)\n",
    "        print(\"-\"*(len(literal) + 2), \"\\n\")\n",
    "        print(\"Binary Call Option Value:  V(S, T):{:7.2f}  | ({:5.2f})\".format(call_value, option_bse.c_v))\n",
    "        print(\"Binary Put  Option Value:  V(S, T):{:7.2f}  | ({:5.2f})\".format(put_value, option_bse.p_v))\n",
    "        print(\"=\"*100, \"\\n\")\n",
    "    \n",
    "    return BinaryOption(\"euler1\", call_value, put_value)\n",
    "\n",
    "option_euler1 = bse_giant_leap(npaths=1E4, plot=False)"
   ]
  },
  {
   "cell_type": "markdown",
   "metadata": {},
   "source": [
    "## Euler-Maruyama + Milstein (optional)"
   ]
  },
  {
   "cell_type": "code",
   "execution_count": 17,
   "metadata": {},
   "outputs": [
    {
     "name": "stdout",
     "output_type": "stream",
     "text": [
      "==================================================================================================== \n",
      "\n",
      "Expected Value: 105.23160\n",
      "\n",
      "Asset or Nothing Values\n",
      "------------------------- \n",
      "\n",
      "Binary Call Option Value:  V(S, T):  10.48  | (10.45)\n",
      "Binary Put  Option Value:  V(S, T):   5.50  | ( 5.57)\n",
      "==================================================================================================== \n",
      "\n"
     ]
    }
   ],
   "source": [
    "np.random.seed(RANDOM_SEED)\n",
    "\n",
    "def euler(s_grid, rn, dt, r, vol, nsteps=1):\n",
    "    \"\"\"\n",
    "    Executes looping over square grid to generate a random walk.\n",
    "    ------------------------------------------------------------\n",
    "    param  sgrid:\n",
    "    param     dt:\n",
    "    param      r:\n",
    "    param    vol:\n",
    "    param nsteps:\n",
    "    \"\"\"\n",
    "    global option_bse\n",
    "    \n",
    "    # Manually adjust flags\n",
    "    mil_on = 1                # set t1 to turn Milstein component on\n",
    "    exponent_form = False     # Exponential form of the random walk\n",
    "\n",
    "    # iterate across columns\n",
    "    if exponent_form:\n",
    "        exponent = (r - 0.5*(vol**2))*dt + (vol * rn * math.sqrt(dt))\n",
    "        con = np.exp(exponent)\n",
    "\n",
    "    else:\n",
    "\n",
    "        a = r * dt\n",
    "        b = vol * rn * math.sqrt(dt)\n",
    "        c = 0.5 * (vol**2)*(np.power(rn, 2) - 1) * dt\n",
    "\n",
    "        con = 1 + a + b + mil_on * c\n",
    "\n",
    "    # Begin Iteration\n",
    "    for i in range(0, nsteps):\n",
    "\n",
    "        s_grid[:, i+1] = s_grid[:, i] * con[:, i]\n",
    "\n",
    "# Execute below\n",
    "def euler_maruyama(npaths=1E4, nsteps=252, plot=False, output=True):\n",
    "    \"\"\"\n",
    "    Main Function to execute\n",
    "    \"\"\"\n",
    "    \n",
    "    global T, S0, E, r, vol, DF\n",
    "    # with N=100,000 and nsteps=252 this consumes up to 500 MB of RAM\n",
    "    \n",
    "    N = int(npaths)\n",
    "    max_paths_to_plot = 1\n",
    "\n",
    "    M = int(nsteps) + 1\n",
    "    dt = T / int(nsteps)\n",
    "\n",
    "    # random number drawn from a standard normal distribution\n",
    "    # Note this is essentially Cell values, hence M-1, while stock is essentially Point Data in CFD terminology\n",
    "    rn = np.random.standard_normal(size=N*(M-1)).reshape((N, (M-1)), order=\"C\")\n",
    "\n",
    "    # Stock prices for each path from 0 to N-1\n",
    "    s_grid = np.zeros((N, M), order=\"C\")\n",
    "\n",
    "    # Initial values\n",
    "    s_grid[:, 0] = S0\n",
    "\n",
    "    # Calculate Stock Price by walking across passed in grid\n",
    "    euler(s_grid, rn, dt, r, vol, nsteps=nsteps)\n",
    "\n",
    "    # Extract results at end of random walk\n",
    "    s_t = s_grid[:, -1]\n",
    "    \n",
    "    if plot:\n",
    "        # Plot Random Walk Distribution at expiry\n",
    "        fig, axes = plt.subplots(nrows=1, ncols=2, figsize=(18, 6), dpi=70, sharey=True)\n",
    "        ax1, ax2 = axes\n",
    "        plt.tight_layout(pad=1.08, h_pad=None, w_pad=None)\n",
    "        \n",
    "        ax1.set_ylabel(\"S(t)\");\n",
    "        ax2.set_xlabel(\"Normalized Stock price at time T\")\n",
    "\n",
    "        # Going to use quantile for now to come up with some way of letter y limits scale with varying settings\n",
    "        c = 5/100/100\n",
    "        q1, q3 = np.quantile(s_t, (c, 1-c))  # Q1 and Q3 quantiles\n",
    "        ax2.set_ylim([q1, q3])\n",
    "\n",
    "        # Plot Histogram\n",
    "        ax2.hist(s_t, bins=1000, density=True, orientation=\"horizontal\")\n",
    "\n",
    "        # Plot the paths - No. paths limited by max_paths_to_plot variable :TODO fix this horrible variable name\n",
    "        x = np.arange(0, M, step=1)\n",
    "        for i in range(N):\n",
    "\n",
    "            ax1.plot(x, s_grid[i, :])\n",
    "\n",
    "            if i > max_paths_to_plot: break\n",
    "        \n",
    "        ax1.plot(x, s_grid.mean(axis=0).T)\n",
    "        ax1.plot(x, np.ones_like(x)*S0, lw=2, color=\"k\")\n",
    "        ax1.set_xlim([0, nsteps])\n",
    "\n",
    "    # Calculate Binary Option Value\n",
    "    call_value = DF(r, T) * np.maximum(s_t - E, 0).mean()\n",
    "    put_value = DF(r, T) * np.maximum(E - s_t, 0).mean()\n",
    "    \n",
    "    if output:\n",
    "        print(\"=\"*100, \"\\n\")\n",
    "        print(\"Expected Value: {:7.5f}\\n\".format(np.mean(s_t))) # TODO: delete later\n",
    "        literal = \"Asset or Nothing Values\"\n",
    "        print(literal)\n",
    "        print(\"-\"*(len(literal) + 2), \"\\n\")\n",
    "        print(\"Binary Call Option Value:  V(S, T):{:7.2f}  | ({:5.2f})\".format(call_value, option_bse.c_v))\n",
    "        print(\"Binary Put  Option Value:  V(S, T):{:7.2f}  | ({:5.2f})\".format(put_value, option_bse.p_v))\n",
    "        print(\"=\"*100, \"\\n\")\n",
    "    \n",
    "    return BinaryOption(\"euler2\", call_value, put_value)\n",
    "\n",
    "option_euler2 = euler_maruyama(npaths=1E4, nsteps=252, plot=False, output=True)"
   ]
  },
  {
   "cell_type": "markdown",
   "metadata": {},
   "source": [
    "# Alternative coding method: Euler-Maruyama + Milstein (optional)\n",
    "- Just looking for something more memory efficient when number of timesteps and number of paths increase"
   ]
  },
  {
   "cell_type": "code",
   "execution_count": 20,
   "metadata": {},
   "outputs": [
    {
     "name": "stdout",
     "output_type": "stream",
     "text": [
      "==================================================================================================== \n",
      "\n",
      "Expected Value: 105.21911\n",
      "\n",
      "Asset or Nothing Values\n",
      "------------------------- \n",
      "\n",
      "Binary Call Option Value:  V(S, T):  10.44  | (10.45)\n",
      "Binary Put  Option Value:  V(S, T):    5.48  | ( 5.57)\n",
      "==================================================================================================== \n",
      "\n"
     ]
    }
   ],
   "source": [
    "np.random.seed(RANDOM_SEED)\n",
    "\n",
    "def euler_alternative(s_t0, s_t1, dt, r, vol, nsteps=1):\n",
    "    \n",
    "    mil_on = 1               # set t1 to turn Milstein component on\n",
    "    \n",
    "    dt_sqrt = math.sqrt(dt)  # calculate this only once rather than every loop\n",
    "    n = s_t0.size\n",
    "    \n",
    "    # Begin iteration\n",
    "    for i in range(nsteps):\n",
    "        \n",
    "        # Generate N(0, 1) random numbers \n",
    "        rn = np.random.standard_normal(n)\n",
    "        \n",
    "        # Calculate value at next time step\n",
    "        s_t1[:] = s_t0[:] * (1 + (r * dt) + (vol * rn * dt_sqrt)\n",
    "                             + (mil_on * 0.5 * (vol**2)*(np.power(rn, 2) - 1) * dt))  # Milstein component\n",
    "        \n",
    "        # Setup next time step initial value values\n",
    "        s_t0[:] = s_t1[:]\n",
    "    \n",
    "    return s_t1\n",
    "\n",
    "def euler_maruyama_alternative(npaths=1E4, nsteps=252, plot=False, output=True):\n",
    "    \"\"\"\n",
    "    Main Function to execute\n",
    "    \n",
    "    param npaths:  No. paths to simulate\n",
    "    param nsteps:  No. time steps\n",
    "    \"\"\"\n",
    "    \n",
    "    global T, S0, E, r, vol, DF, option_bse\n",
    "    \n",
    "    N = int(npaths)\n",
    "    M = int(nsteps)\n",
    "    dt = T / M \n",
    "\n",
    "    # S_t - Initial stock prices for each path\n",
    "    s_t0 = np.ones(N, order=\"C\") * S0\n",
    "\n",
    "    # S_t+1 - stock  price at next time step\n",
    "    s_t1 = np.zeros_like(s_t0)\n",
    "\n",
    "    # Calculate Stock Price\n",
    "    s_t = euler_alternative(s_t0, s_t1, dt, r, vol, nsteps=nsteps)\n",
    "    \n",
    "    if plot:\n",
    "        fig, ax = plt.subplots(nrows=1, ncols=1, figsize=(12, 6), dpi=70)\n",
    "\n",
    "        s_t_norm = (s_t - np.mean(s_t)) / np.std(s_t)\n",
    "\n",
    "        ax.hist(s_t_norm, bins=int(math.modf(N/10)[1]), range=[-4, 4])\n",
    "        ax.set_xlabel(\"Normalized Stock price at time T\")\n",
    "        ax.set_ylabel(\"Frequency\");\n",
    "\n",
    "    # Calculate Binary Option Value\n",
    "    call_value = DF(r, T) * np.maximum(s_t - E, 0).mean()\n",
    "    put_value = DF(r, T) * np.maximum(E - s_t, 0).mean()\n",
    "    \n",
    "    if output:\n",
    "        print(\"=\"*100, \"\\n\")\n",
    "        print(\"Expected Value: {:7.5f}\\n\".format(np.mean(s_t))) # TODO: delete later\n",
    "        literal = \"Asset or Nothing Values\"\n",
    "        print(literal)\n",
    "        print(\"-\"*(len(literal) + 2), \"\\n\")\n",
    "        print(\"Binary Call Option Value:  V(S, T):{:7.2f}  | ({:5.2f})\".format(call_value, option_bse.c_v))\n",
    "        print(\"Binary Put  Option Value:  V(S, T):{:8.2f}  | ({:5.2f})\".format(put_value, option_bse.p_v))\n",
    "        print(\"=\"*100, \"\\n\")\n",
    "    \n",
    "    return BinaryOption(\"euler3\", call_value, put_value)\n",
    "\n",
    "option_euler3 = euler_maruyama_alternative(npaths=1E4, nsteps=252, plot=False)"
   ]
  },
  {
   "cell_type": "code",
   "execution_count": 6,
   "metadata": {},
   "outputs": [
    {
     "name": "stdout",
     "output_type": "stream",
     "text": [
      "218 ms ± 3.99 ms per loop (mean ± std. dev. of 10 runs, 10 loops each)\n"
     ]
    }
   ],
   "source": [
    "%timeit -n 10 -r 10 euler_maruyama(npaths=1E4, nsteps=252, plot=False, output=False)"
   ]
  },
  {
   "cell_type": "code",
   "execution_count": 8,
   "metadata": {},
   "outputs": [
    {
     "name": "stdout",
     "output_type": "stream",
     "text": [
      "122 ms ± 798 µs per loop (mean ± std. dev. of 10 runs, 10 loops each)\n"
     ]
    }
   ],
   "source": [
    "%timeit -n 10 -r 10 euler_maruyama_alternative(npaths=1E4, nsteps=252, plot=False, output=False)"
   ]
  },
  {
   "cell_type": "markdown",
   "metadata": {},
   "source": [
    "# Convergence "
   ]
  },
  {
   "cell_type": "code",
   "execution_count": null,
   "metadata": {},
   "outputs": [],
   "source": []
  }
 ],
 "metadata": {
  "kernelspec": {
   "display_name": "Python 3",
   "language": "python",
   "name": "python3"
  },
  "language_info": {
   "codemirror_mode": {
    "name": "ipython",
    "version": 3
   },
   "file_extension": ".py",
   "mimetype": "text/x-python",
   "name": "python",
   "nbconvert_exporter": "python",
   "pygments_lexer": "ipython3",
   "version": "3.7.6"
  }
 },
 "nbformat": 4,
 "nbformat_minor": 4
}
